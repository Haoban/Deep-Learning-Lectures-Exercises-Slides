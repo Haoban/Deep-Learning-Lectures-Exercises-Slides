{
 "cells": [
  {
   "cell_type": "markdown",
   "metadata": {},
   "source": [
    "# 521153S, Deep Learning Final Project: Mini Image classification Competition with CNN"
   ]
  },
  {
   "cell_type": "markdown",
   "metadata": {},
   "source": [
    "## Outline \n",
    "### In this assignment, you will learn:\n",
    "* Combine all you learned from the previous assignments.\n",
    "* Build your own CNN as you like with Pytorch, train and validate it on a given dataset.\n",
    "* Test your CNN model on our server.\n",
    "\n",
    "### Tasks (<span style=\"color:orange\">40 points</span>)\n",
    "We want to keep the task as clean and simple as possible. \n",
    "1. You would be given a dataset containing 45,000 grayscale 32x32 images. Also, we will set a private testing data and upload it to our server. You could only use the private testing data to test your model. Instructions about evaluating your model would be given along with the project in Moodle.\n",
    "2. Before evaluating your model on the server, you have to train your model based on the given 45,000 images. Specifically, in these images, there are nine classes, and each class has 5000 images. The testing data on the server has 9000 images, and each class has 1000 images.\n",
    "3. To get a good CNN model, basically, there are some rules for you to follow which would be considered when grading your report:\n",
    "  * Make the best out of the given images. It means you have to split it into training and validation set, training your model on the training set and validating the trained model on the validation set. If the accuracy on the validation set is not good, then you have to adjust your CNN model structure or some adjustable parameters. For example, batch size, learning rate, momentum on SGD, lambda in weight decay, etc.  Then retrain your model until the accuracy on the validation set is good enough because the testing data would have similar accuracy with the validation set. \n",
    "  * It also means that you could do some augmentation on the training set. This includes randomly flipping, cropping a small window in a random location within the image(refer to assignment 4), adding some noise, resizing-and-cropping, etc. All these are to make the training process more tolerant. \n",
    "  * From the CNN structure perspective, you also need to design your CNN model by yourself. Well-known network architecture you can use includes [ResNet](https://arxiv.org/abs/1512.03385), [Inception](https://arxiv.org/abs/1512.00567), [VGGNet](https://arxiv.org/abs/1409.1556), [DenseNet](https://arxiv.org/abs/1608.06993), [MobileNet](https://arxiv.org/abs/1801.04381), [ShuffleNet](https://arxiv.org/abs/1807.11164), [ResNeXt](https://arxiv.org/abs/1611.05431) etc. \n",
    "4. Similar to real-life applications, your model will be tested with unknown data. In this project,  after training and validating the model, you need to test it on our hold-on testing dataset. We will provide you with a submission server and a leaderboard. The instructions would be given alongside the project in Moodle. \n",
    "5. Please give a pdf report (also your source code, e.g., this Jupyter notebook file), documenting the whole model training process and also the evaluated accuracy on the server. Tensorboard visualization is also necessary for your report to visualize your network structure, accuracy, and losses, etc. as done in assignment 4.\n",
    "6. You need to return the pdf report as well as your trained model (a checkpoint file) with your source code file to moodle. We will run your model on the server and compare the results with the one written in the reports. \n",
    "\n",
    "### Grading\n",
    "You can get 40 points in total.\n",
    "  * You will get <span style=\"color:orange;font-weight:bold\">20 points</span> if your model achieve more than 82.5% of the testing accuracy.\n",
    "  * You will get <span style=\"color:orange;font-weight:bold\">20 points</span> if your report is clear and well-organized.\n",
    "  \n",
    "### Files you have to submit\n",
    "please submit a .zip file containing:\n",
    "1. a pdf report;\n",
    "2. source code files (jupyter notebook or common python files);\n",
    "3. a checkpoint file (which saves your trained model).\n",
    "\n",
    "### Group members\n",
    "Maximum 2 members. \n",
    "\n",
    "\n",
    "### Environment\n",
    "Python 3, Numpy, matplotlib, torch, torchvision...\n",
    "\n",
    "### Dataset\n",
    "Please follow the code below to download the 45,000 images and corresponding labels. <br>\n",
    "We have already split them into training and validation set; please refer to assignment 3 and 4 to create your DataLoader, with your data augmentation methods. Good luck. "
   ]
  },
  {
   "cell_type": "markdown",
   "metadata": {},
   "source": [
    "#### Download the given dataset"
   ]
  },
  {
   "cell_type": "code",
   "execution_count": 1,
   "metadata": {},
   "outputs": [
    {
     "name": "stdout",
     "output_type": "stream",
     "text": [
      "Data downloaded and extracted!\n",
      "GPU_available=True\n"
     ]
    }
   ],
   "source": [
    "# import necessary packages\n",
    "import os, time\n",
    "import torch \n",
    "import requests, zipfile, sys\n",
    "import numpy as np\n",
    "import matplotlib.pyplot as plt \n",
    "from torch.utils.data import Dataset, DataLoader\n",
    "from utils import download_given_data, get_preds_figure\n",
    "import torchvision\n",
    "from PIL import Image\n",
    "import torch\n",
    "import torch.nn as nn\n",
    "import torch.nn.functional as F\n",
    "import torch.optim as optim\n",
    "from torchvision import transforms, utils\n",
    "import random, matplotlib\n",
    "import pandas as pd\n",
    "from torch.utils.tensorboard import SummaryWriter\n",
    "from torchvision.models.resnet import BasicBlock\n",
    "\n",
    "download_given_data('./')\n",
    "print(\"GPU_available={}\".format(torch.cuda.is_available()))"
   ]
  },
  {
   "cell_type": "markdown",
   "metadata": {},
   "source": [
    "**Create a dataset class for our Mini ImageNet dataset**"
   ]
  },
  {
   "cell_type": "code",
   "execution_count": 2,
   "metadata": {},
   "outputs": [],
   "source": [
    "class MiniImageNetDataset(Dataset):\n",
    "\n",
    "    def __init__(self, csv_file, transform=None):\n",
    "        # Read the csv file\n",
    "        self.frame = pd.read_csv(csv_file, header=None)\n",
    "        self.transform = transform\n",
    "        \n",
    "        self.label_names = ['airplane', 'automobile', 'bird', 'cat', 'deer', \n",
    "               'dog', 'frog', 'horse', 'ship']\n",
    "\n",
    "    def __getitem__(self, idx):\n",
    "        image_name = self.frame.iloc[idx, 0]\n",
    "        image = Image.open(image_name)\n",
    "        \n",
    "        label = self.frame.iloc[idx, 1]\n",
    "\n",
    "        if self.transform:\n",
    "            image = self.transform(image)\n",
    "            \n",
    "        sample = {'image': image, 'label': label}\n",
    "\n",
    "        return sample\n",
    "\n",
    "    def __len__(self):\n",
    "        return len(self.frame)"
   ]
  },
  {
   "cell_type": "markdown",
   "metadata": {},
   "source": [
    "### Dataset checking ###"
   ]
  },
  {
   "cell_type": "code",
   "execution_count": 3,
   "metadata": {},
   "outputs": [
    {
     "data": {
      "image/png": "[encoded data removed]",
      "text/plain": [
       "<Figure size 1152x576 with 5 Axes>"
      ]
     },
     "metadata": {
      "needs_background": "light"
     },
     "output_type": "display_data"
    },
    {
     "name": "stdout",
     "output_type": "stream",
     "text": [
      "total number of training set: 36000\n",
      "numer of images for class airplane: 4000\n",
      "numer of images for class automobile: 4000\n",
      "numer of images for class bird: 4000\n",
      "numer of images for class cat: 4000\n",
      "numer of images for class deer: 4000\n",
      "numer of images for class dog: 4000\n",
      "numer of images for class frog: 4000\n",
      "numer of images for class horse: 4000\n",
      "numer of images for class ship: 4000\n"
     ]
    }
   ],
   "source": [
    "train_set = MiniImageNetDataset(csv_file='./given_data/train.csv', transform=None)\n",
    "\n",
    "num_to_show = 5\n",
    "idx = np.random.choice(range(len(train_set)), num_to_show, replace=False)\n",
    "\n",
    "fig = plt.figure(figsize=(16, 8))\n",
    "\n",
    "for i in range(len(idx)):\n",
    "    image, label = train_set[idx[i]]['image'], train_set[idx[i]]['label']\n",
    "    label_name = train_set.label_names[label]\n",
    "\n",
    "    ax = plt.subplot(1, num_to_show, i + 1)\n",
    "    plt.tight_layout()\n",
    "    ax.set_title('class #{}'.format(label_name))\n",
    "    ax.axis('off')\n",
    "    plt.imshow(np.asarray(image), cmap=matplotlib.cm.binary)\n",
    "\n",
    "plt.show()\n",
    "\n",
    "# Print the number of total images in the training set\n",
    "print('total number of training set: {}'.format(len(train_set)))\n",
    "\n",
    "# Print the number of images per class in the training set\n",
    "class_num_train = np.zeros(10, dtype=np.int32)\n",
    "for x in train_set:\n",
    "    class_num_train[x['label']] += 1\n",
    "for i in range(9):\n",
    "    print('numer of images for class {}: {}'.format(train_set.label_names[i], class_num_train[i]))"
   ]
  },
  {
   "cell_type": "code",
   "execution_count": 4,
   "metadata": {},
   "outputs": [
    {
     "data": {
      "image/png": "[encoded data removed]",
      "text/plain": [
       "<Figure size 1152x576 with 5 Axes>"
      ]
     },
     "metadata": {
      "needs_background": "light"
     },
     "output_type": "display_data"
    },
    {
     "name": "stdout",
     "output_type": "stream",
     "text": [
      "total number of validing set: 9000\n",
      "numer of images for class airplane: 1000\n",
      "numer of images for class automobile: 1000\n",
      "numer of images for class bird: 1000\n",
      "numer of images for class cat: 1000\n",
      "numer of images for class deer: 1000\n",
      "numer of images for class dog: 1000\n",
      "numer of images for class frog: 1000\n",
      "numer of images for class horse: 1000\n",
      "numer of images for class ship: 1000\n"
     ]
    }
   ],
   "source": [
    "valid_set =  MiniImageNetDataset(csv_file='./given_data/val.csv', transform=None)\n",
    "\n",
    "num_to_show = 5\n",
    "idx = np.random.choice(range(len(valid_set)), num_to_show, replace=False)\n",
    "\n",
    "fig = plt.figure(figsize=(16, 8))\n",
    "\n",
    "for i in range(len(idx)):\n",
    "    image, label = valid_set[idx[i]]['image'], valid_set[idx[i]]['label']\n",
    "    label_name = valid_set.label_names[label]    \n",
    "\n",
    "    # TODO: show plots\n",
    "    ax = plt.subplot(1, num_to_show, i + 1)\n",
    "    plt.tight_layout()\n",
    "    ax.set_title('class #{}'.format(label_name))\n",
    "    ax.axis('off')\n",
    "    plt.imshow(np.asarray(image), cmap=matplotlib.cm.binary)\n",
    "\n",
    "plt.show()\n",
    "\n",
    "# TODO: Print the number of total images in the validation set    \n",
    "print('total number of validing set: {}'.format(len(valid_set)))\n",
    "\n",
    "# TODO: Print the number of images per class in the validation set\n",
    "class_num_val = np.zeros(10, dtype=np.int32)\n",
    "for x in valid_set:\n",
    "    class_num_val[x['label']] += 1\n",
    "for i in range(9):\n",
    "    print('numer of images for class {}: {}'.format(valid_set.label_names[i], class_num_val[i]))"
   ]
  },
  {
   "cell_type": "markdown",
   "metadata": {},
   "source": [
    "### Build our custom data augmentation"
   ]
  },
  {
   "cell_type": "markdown",
   "metadata": {},
   "source": [
    "We can define a custom data transformation for data augmentation namely RandomWindowDrop. There are 50%/50% chance that it will randomly cut a square window inside our image or horizontally flip the image."
   ]
  },
  {
   "cell_type": "code",
   "execution_count": 5,
   "metadata": {},
   "outputs": [],
   "source": [
    "class RandomWindowDrop(object):\n",
    "    def __init__(self, window_size):\n",
    "        assert isinstance(window_size, (int, tuple))\n",
    "        if isinstance(window_size, int):\n",
    "            self.window_size = (window_size, window_size)\n",
    "        else:\n",
    "            assert len(window_size) == 2\n",
    "            self.window_size = window_size\n",
    "        \n",
    "        # Define a horizontalFlip\n",
    "        self.trans = transforms.RandomHorizontalFlip(p=1.0)\n",
    "\n",
    "    def __call__(self, sample):\n",
    "        image = sample\n",
    "\n",
    "        # Perform either RandomWindowDrop or RandomHorizontalFlip\n",
    "        if random.random() < 0.5:\n",
    "            h, w = image.size\n",
    "            imagePixels = image.load()\n",
    "            top = np.random.randint(self.window_size[0], h - self.window_size[0])\n",
    "            left = np.random.randint(self.window_size[1], w - self.window_size[1])\n",
    "            for i in range(top, top+self.window_size[0], 1):\n",
    "                for j in range(left, left+self.window_size[1], 1):   \n",
    "                    imagePixels[i, j] = 0\n",
    "        else:\n",
    "            image = self.trans(image)\n",
    "\n",
    "        return image"
   ]
  },
  {
   "cell_type": "markdown",
   "metadata": {},
   "source": [
    "**Load the training/validation data to Dataloader**"
   ]
  },
  {
   "cell_type": "code",
   "execution_count": 6,
   "metadata": {},
   "outputs": [],
   "source": [
    "def getTrainingData(csv_file='./given_data/train.csv', batch_size=64, num_workers=0):\n",
    "    __normalize_stats = {'mean': [0.5], 'std': [0.5]}\n",
    "\n",
    "    # transforms.Compose create a list of transformations\n",
    "    transformed_training = MiniImageNetDataset(csv_file=csv_file,\n",
    "                                        transform=transforms.Compose([\n",
    "                                            RandomWindowDrop(6),\n",
    "                                            transforms.Resize(224),\n",
    "                                            transforms.ToTensor(),\n",
    "                                            transforms.Normalize(__normalize_stats['mean'],\n",
    "                                                      __normalize_stats['std'])\n",
    "                                        ]))\n",
    "\n",
    "    dataloader_training = DataLoader(transformed_training, batch_size, shuffle=True, num_workers=num_workers)\n",
    "\n",
    "    return dataloader_training\n",
    "\n",
    "\n",
    "def getEvalData(csv_file='./given_data/val.csv', batch_size=64, num_workers=0):\n",
    "    __normalize_stats = {'mean': [0.5], 'std': [0.5]}\n",
    "\n",
    "    transformed_eval = MiniImageNetDataset(csv_file=csv_file,\n",
    "                                        transform=transforms.Compose([\n",
    "                                            transforms.Resize(224),\n",
    "                                            transforms.ToTensor(),\n",
    "                                            transforms.Normalize(__normalize_stats['mean'],\n",
    "                                                      __normalize_stats['std'])\n",
    "                                        ]))\n",
    "    \n",
    "    # DataLoader shuffle=False\n",
    "    dataloader_eval = DataLoader(transformed_eval, batch_size, shuffle=True, num_workers=num_workers)\n",
    "\n",
    "    return dataloader_eval"
   ]
  },
  {
   "cell_type": "code",
   "execution_count": 7,
   "metadata": {},
   "outputs": [],
   "source": [
    "train_loader = getTrainingData(csv_file='./given_data/train.csv', batch_size=64, num_workers=0)\n",
    "\n",
    "# batch_size = 64\n",
    "valid_loader = getEvalData(csv_file='./given_data/val.csv', batch_size=64, num_workers=0)"
   ]
  },
  {
   "cell_type": "markdown",
   "metadata": {},
   "source": [
    "###  Define the Network Architecture in Pytorch ###"
   ]
  },
  {
   "cell_type": "code",
   "execution_count": 8,
   "metadata": {},
   "outputs": [],
   "source": [
    "## ------ ResNet18 -------- ##\n",
    "\n",
    "class ResNet18_MiniImageNet(torchvision.models.ResNet):\n",
    "    def __init__(self, num_classes=9):\n",
    "        super(ResNet18_MiniImageNet, self).__init__(BasicBlock, [2, 2, 2, 2], num_classes=num_classes)\n",
    "        # Override the \"conv1\" layer from the resnet-18 model\n",
    "        self.conv1 = nn.Conv2d(1, 64, kernel_size=7, stride=2, padding=3, bias=False)\n",
    "        \n",
    "    def forward(self, x):\n",
    "        return super(ResNet18_MiniImageNet, self).forward(x)\n",
    "\n",
    "## Set ResNet18 Model\n",
    "\n",
    "Ourmodel = 'ResNet18'\n",
    "model = ResNet18_MiniImageNet(num_classes= 9).float()\n",
    "    \n",
    "## ------ ResNet50 -------- ##\n",
    "# In order to keep memory on 8G GPU, please set 32 as batch size\n",
    "## Set ResNet50 model\n",
    "# Ourmodel = 'ResNet50'\n",
    "\n",
    "# model = torchvision.models.resnet50(pretrained=False)\n",
    "# model.conv1 = torch.nn.Conv2d(1, 64, kernel_size=7, stride=2, padding=3, bias=False)\n",
    "\n",
    "# model.fc = torch.nn.Sequential(\n",
    "#     torch.nn.Linear(\n",
    "#         in_features=2048,\n",
    "#         out_features=9\n",
    "#     )\n",
    "# #     torch.nn.Sigmoid()\n",
    "# )\n",
    "\n",
    "## ------ VGG 16 -------- ##\n"
   ]
  },
  {
   "cell_type": "markdown",
   "metadata": {},
   "source": [
    "### Check the Model Architecture ###"
   ]
  },
  {
   "cell_type": "code",
   "execution_count": 9,
   "metadata": {},
   "outputs": [
    {
     "name": "stdout",
     "output_type": "stream",
     "text": [
      "ResNet18_MiniImageNet(\n",
      "  (conv1): Conv2d(1, 64, kernel_size=(7, 7), stride=(2, 2), padding=(3, 3), bias=False)\n",
      "  (bn1): BatchNorm2d(64, eps=1e-05, momentum=0.1, affine=True, track_running_stats=True)\n",
      "  (relu): ReLU(inplace=True)\n",
      "  (maxpool): MaxPool2d(kernel_size=3, stride=2, padding=1, dilation=1, ceil_mode=False)\n",
      "  (layer1): Sequential(\n",
      "    (0): BasicBlock(\n",
      "      (conv1): Conv2d(64, 64, kernel_size=(3, 3), stride=(1, 1), padding=(1, 1), bias=False)\n",
      "      (bn1): BatchNorm2d(64, eps=1e-05, momentum=0.1, affine=True, track_running_stats=True)\n",
      "      (relu): ReLU(inplace=True)\n",
      "      (conv2): Conv2d(64, 64, kernel_size=(3, 3), stride=(1, 1), padding=(1, 1), bias=False)\n",
      "      (bn2): BatchNorm2d(64, eps=1e-05, momentum=0.1, affine=True, track_running_stats=True)\n",
      "    )\n",
      "    (1): BasicBlock(\n",
      "      (conv1): Conv2d(64, 64, kernel_size=(3, 3), stride=(1, 1), padding=(1, 1), bias=False)\n",
      "      (bn1): BatchNorm2d(64, eps=1e-05, momentum=0.1, affine=True, track_running_stats=True)\n",
      "      (relu): ReLU(inplace=True)\n",
      "      (conv2): Conv2d(64, 64, kernel_size=(3, 3), stride=(1, 1), padding=(1, 1), bias=False)\n",
      "      (bn2): BatchNorm2d(64, eps=1e-05, momentum=0.1, affine=True, track_running_stats=True)\n",
      "    )\n",
      "  )\n",
      "  (layer2): Sequential(\n",
      "    (0): BasicBlock(\n",
      "      (conv1): Conv2d(64, 128, kernel_size=(3, 3), stride=(2, 2), padding=(1, 1), bias=False)\n",
      "      (bn1): BatchNorm2d(128, eps=1e-05, momentum=0.1, affine=True, track_running_stats=True)\n",
      "      (relu): ReLU(inplace=True)\n",
      "      (conv2): Conv2d(128, 128, kernel_size=(3, 3), stride=(1, 1), padding=(1, 1), bias=False)\n",
      "      (bn2): BatchNorm2d(128, eps=1e-05, momentum=0.1, affine=True, track_running_stats=True)\n",
      "      (downsample): Sequential(\n",
      "        (0): Conv2d(64, 128, kernel_size=(1, 1), stride=(2, 2), bias=False)\n",
      "        (1): BatchNorm2d(128, eps=1e-05, momentum=0.1, affine=True, track_running_stats=True)\n",
      "      )\n",
      "    )\n",
      "    (1): BasicBlock(\n",
      "      (conv1): Conv2d(128, 128, kernel_size=(3, 3), stride=(1, 1), padding=(1, 1), bias=False)\n",
      "      (bn1): BatchNorm2d(128, eps=1e-05, momentum=0.1, affine=True, track_running_stats=True)\n",
      "      (relu): ReLU(inplace=True)\n",
      "      (conv2): Conv2d(128, 128, kernel_size=(3, 3), stride=(1, 1), padding=(1, 1), bias=False)\n",
      "      (bn2): BatchNorm2d(128, eps=1e-05, momentum=0.1, affine=True, track_running_stats=True)\n",
      "    )\n",
      "  )\n",
      "  (layer3): Sequential(\n",
      "    (0): BasicBlock(\n",
      "      (conv1): Conv2d(128, 256, kernel_size=(3, 3), stride=(2, 2), padding=(1, 1), bias=False)\n",
      "      (bn1): BatchNorm2d(256, eps=1e-05, momentum=0.1, affine=True, track_running_stats=True)\n",
      "      (relu): ReLU(inplace=True)\n",
      "      (conv2): Conv2d(256, 256, kernel_size=(3, 3), stride=(1, 1), padding=(1, 1), bias=False)\n",
      "      (bn2): BatchNorm2d(256, eps=1e-05, momentum=0.1, affine=True, track_running_stats=True)\n",
      "      (downsample): Sequential(\n",
      "        (0): Conv2d(128, 256, kernel_size=(1, 1), stride=(2, 2), bias=False)\n",
      "        (1): BatchNorm2d(256, eps=1e-05, momentum=0.1, affine=True, track_running_stats=True)\n",
      "      )\n",
      "    )\n",
      "    (1): BasicBlock(\n",
      "      (conv1): Conv2d(256, 256, kernel_size=(3, 3), stride=(1, 1), padding=(1, 1), bias=False)\n",
      "      (bn1): BatchNorm2d(256, eps=1e-05, momentum=0.1, affine=True, track_running_stats=True)\n",
      "      (relu): ReLU(inplace=True)\n",
      "      (conv2): Conv2d(256, 256, kernel_size=(3, 3), stride=(1, 1), padding=(1, 1), bias=False)\n",
      "      (bn2): BatchNorm2d(256, eps=1e-05, momentum=0.1, affine=True, track_running_stats=True)\n",
      "    )\n",
      "  )\n",
      "  (layer4): Sequential(\n",
      "    (0): BasicBlock(\n",
      "      (conv1): Conv2d(256, 512, kernel_size=(3, 3), stride=(2, 2), padding=(1, 1), bias=False)\n",
      "      (bn1): BatchNorm2d(512, eps=1e-05, momentum=0.1, affine=True, track_running_stats=True)\n",
      "      (relu): ReLU(inplace=True)\n",
      "      (conv2): Conv2d(512, 512, kernel_size=(3, 3), stride=(1, 1), padding=(1, 1), bias=False)\n",
      "      (bn2): BatchNorm2d(512, eps=1e-05, momentum=0.1, affine=True, track_running_stats=True)\n",
      "      (downsample): Sequential(\n",
      "        (0): Conv2d(256, 512, kernel_size=(1, 1), stride=(2, 2), bias=False)\n",
      "        (1): BatchNorm2d(512, eps=1e-05, momentum=0.1, affine=True, track_running_stats=True)\n",
      "      )\n",
      "    )\n",
      "    (1): BasicBlock(\n",
      "      (conv1): Conv2d(512, 512, kernel_size=(3, 3), stride=(1, 1), padding=(1, 1), bias=False)\n",
      "      (bn1): BatchNorm2d(512, eps=1e-05, momentum=0.1, affine=True, track_running_stats=True)\n",
      "      (relu): ReLU(inplace=True)\n",
      "      (conv2): Conv2d(512, 512, kernel_size=(3, 3), stride=(1, 1), padding=(1, 1), bias=False)\n",
      "      (bn2): BatchNorm2d(512, eps=1e-05, momentum=0.1, affine=True, track_running_stats=True)\n",
      "    )\n",
      "  )\n",
      "  (avgpool): AdaptiveAvgPool2d(output_size=(1, 1))\n",
      "  (fc): Linear(in_features=512, out_features=9, bias=True)\n",
      ")\n"
     ]
    },
    {
     "data": {
      "image/png": "[encoded data removed]",
      "text/plain": [
       "<Figure size 432x288 with 1 Axes>"
      ]
     },
     "metadata": {
      "needs_background": "light"
     },
     "output_type": "display_data"
    }
   ],
   "source": [
    "writer = SummaryWriter('tb_graphs/training')\n",
    "val_writer = SummaryWriter('tb_graphs/validation')\n",
    "\n",
    "    \n",
    "# Print out the layers of our model\n",
    "print(model)\n",
    "\n",
    "# Get some random training images\n",
    "_iter = iter(train_loader)\n",
    "samples = _iter.next()\n",
    "images = samples['image']\n",
    "\n",
    "# Create grid of images\n",
    "img_grid = torchvision.utils.make_grid(images)\n",
    "\n",
    "# Show images\n",
    "plt.imshow(img_grid.mean(dim=0).cpu().numpy(), cmap=\"Greys\")\n",
    "\n",
    "# Write to tensorboard\n",
    "writer.add_image('train_images', img_grid)\n",
    "\n",
    "# Write model graph to tensorboard\n",
    "writer.add_graph(model, images)"
   ]
  },
  {
   "cell_type": "markdown",
   "metadata": {},
   "source": [
    "### Set Parameteres ###"
   ]
  },
  {
   "cell_type": "code",
   "execution_count": 10,
   "metadata": {},
   "outputs": [],
   "source": [
    "\n",
    "device = torch.device(\"cuda\" if torch.cuda.is_available() else \"cpu\")\n",
    "#####Change model to cuda\n",
    "if torch.cuda.is_available():\n",
    "    model = model.cuda()\n"
   ]
  },
  {
   "cell_type": "code",
   "execution_count": 11,
   "metadata": {},
   "outputs": [],
   "source": [
    "# evaluation function\n",
    "def eval(net, data_loader):\n",
    "    net.eval()\n",
    "    correct = 0.0\n",
    "    num_images = 0.0\n",
    "    running_loss = 0.0\n",
    "    loss_function = torch.nn.CrossEntropyLoss()\n",
    "    for i, sample in enumerate(data_loader):\n",
    "        #\n",
    "        images, labels = sample['image'], sample['label']\n",
    "        images, labels = images.to(device),labels.to(device)\n",
    "        outs = net(images)\n",
    "        _, preds = outs.max(1)\n",
    "        correct += preds.eq(labels).sum()\n",
    "        running_loss += loss_function(outs, labels).item()\n",
    "        num_images += len(labels)\n",
    "\n",
    "    acc = correct.float() / num_images\n",
    "    loss = running_loss / len(data_loader)\n",
    "    return acc, loss\n",
    "\n",
    "# training function\n",
    "def train(net, train_loader, valid_loader):\n",
    "    # build SGD optimizer with learning rate=0.01, momentum=0.9, weight decay = 1e-4\n",
    "    optimizer = optim.SGD(net.parameters(), lr=0.006, momentum=0.9, weight_decay= 1e-10)\n",
    "    loss_function = torch.nn.CrossEntropyLoss()\n",
    "    # Log training process to tensorboard every 100 iterations\n",
    "    log_every = 100\n",
    "    # Training for 20 epochs\n",
    "    epoches = 2\n",
    "    for epoch in range(epoches):\n",
    "        start_t = time.time()\n",
    "        net.train()\n",
    "        running_loss = 0.0\n",
    "        running_acc = 0.0\n",
    "        for i, sample in enumerate(train_loader):\n",
    "            images, labels = sample['image'], sample['label']\n",
    "            images, labels = images.to(device),labels.to(device)\n",
    "            # TODO: fill these blanks            \n",
    "            outs = net(images)\n",
    "            loss = loss_function(outs, labels)\n",
    "            _, preds = outs.max(1)\n",
    "            correct = preds.eq(labels).sum()\n",
    "            running_acc += correct.float() / len(labels)\n",
    "           \n",
    "            # clear grads, back-propagation, backward propogation, update parameters\n",
    "            # clear grads\n",
    "            optimizer.zero_grad()\n",
    "           \n",
    "            # backward propogation\n",
    "            loss.backward()\n",
    "\n",
    "            # update parameters\n",
    "            optimizer.step()\n",
    "            net.eval()\n",
    "                       \n",
    "            running_loss += loss.item()\n",
    "           \n",
    "           \n",
    "            if i % log_every == 99:\n",
    "               \n",
    "                print('[Epoch/iter]: [{}/{}], loss: {:.05f}, accuracy: {:.05f}'.format(epoch, i+1,\n",
    "                           running_loss / log_every, running_acc / log_every))\n",
    "\n",
    "                log_index = epoch * len(train_loader) + i\n",
    "                # Log the training loss and accuracy\n",
    "                # Example of using .add_scalar()\n",
    "                # Note tag='Loss'\n",
    "#                 writer.add_scalar('Loss', running_loss / log_every, log_index) # tag='Loss'\n",
    "#                 # TODO: load the training accuracy using writer (0.5 points)\n",
    "#                 # Note tag='Accuracy'\n",
    "#                 writer.add_scalar('Accuracy', running_acc / log_every, log_index)\n",
    "       \n",
    "#                 # Log predictions\n",
    "#                 # Example of using .add_figure()\n",
    "#                 writer.add_figure('predictions', get_preds_figure(net, images, labels), log_index)\n",
    "                running_loss = 0.0\n",
    "                running_acc = 0.0\n",
    "\n",
    "       \n",
    "        # Running the validation\n",
    "\n",
    "        acc_eval, loss_eval = eval(net, valid_loader)\n",
    "        print('Elapsed time: {:.02f} seconds, end of epoch: {}, lr: {}, val_loss: {:.05f}, val_acc: {:.05f}'.format(\n",
    "            time.time()-start_t, epoch, optimizer.param_groups[0]['lr'], loss_eval, acc_eval))\n",
    "        # Log the validation loss and accuracy\n",
    "        # Using val_writer will log the values to the validation writer\n",
    "#         val_log_index = epoch * len(valid_loader) + i\n",
    "#         # Note tag='Loss'\n",
    "#         val_writer.add_scalar('Loss', loss_eval, val_log_index) # tag='Loss'\n",
    "#         # TODO: load the validation accuracy using val_writer (0.5 points)\n",
    "#         # Note tag='Accuracy'\n",
    "#         val_writer.add_scalar('Accuracy', acc_eval, val_log_index)\n",
    "\n",
    "    return net"
   ]
  },
  {
   "cell_type": "code",
   "execution_count": 60,
   "metadata": {},
   "outputs": [
    {
     "name": "stdout",
     "output_type": "stream",
     "text": [
      "[Epoch/iter]: [0/100], loss: 0.05302, accuracy: 0.98469\n",
      "[Epoch/iter]: [0/200], loss: 0.04649, accuracy: 0.98625\n",
      "[Epoch/iter]: [0/300], loss: 0.04893, accuracy: 0.98312\n",
      "[Epoch/iter]: [0/400], loss: 0.03830, accuracy: 0.98812\n",
      "[Epoch/iter]: [0/500], loss: 0.03993, accuracy: 0.98859\n",
      "Elapsed time: 98.08 seconds, end of epoch: 0, lr: 0.006, val_loss: 0.90010, val_acc: 0.81311\n",
      "[Epoch/iter]: [1/100], loss: 0.05336, accuracy: 0.98406\n",
      "[Epoch/iter]: [1/200], loss: 0.04195, accuracy: 0.98828\n",
      "[Epoch/iter]: [1/300], loss: 0.04654, accuracy: 0.98375\n",
      "[Epoch/iter]: [1/400], loss: 0.06709, accuracy: 0.97688\n",
      "[Epoch/iter]: [1/500], loss: 0.04339, accuracy: 0.98844\n",
      "Elapsed time: 100.14 seconds, end of epoch: 1, lr: 0.006, val_loss: 0.72489, val_acc: 0.82622\n"
     ]
    },
    {
     "data": {
      "text/plain": [
       "ResNet18_MiniImageNet(\n",
       "  (conv1): Conv2d(1, 64, kernel_size=(7, 7), stride=(2, 2), padding=(3, 3), bias=False)\n",
       "  (bn1): BatchNorm2d(64, eps=1e-05, momentum=0.1, affine=True, track_running_stats=True)\n",
       "  (relu): ReLU(inplace=True)\n",
       "  (maxpool): MaxPool2d(kernel_size=3, stride=2, padding=1, dilation=1, ceil_mode=False)\n",
       "  (layer1): Sequential(\n",
       "    (0): BasicBlock(\n",
       "      (conv1): Conv2d(64, 64, kernel_size=(3, 3), stride=(1, 1), padding=(1, 1), bias=False)\n",
       "      (bn1): BatchNorm2d(64, eps=1e-05, momentum=0.1, affine=True, track_running_stats=True)\n",
       "      (relu): ReLU(inplace=True)\n",
       "      (conv2): Conv2d(64, 64, kernel_size=(3, 3), stride=(1, 1), padding=(1, 1), bias=False)\n",
       "      (bn2): BatchNorm2d(64, eps=1e-05, momentum=0.1, affine=True, track_running_stats=True)\n",
       "    )\n",
       "    (1): BasicBlock(\n",
       "      (conv1): Conv2d(64, 64, kernel_size=(3, 3), stride=(1, 1), padding=(1, 1), bias=False)\n",
       "      (bn1): BatchNorm2d(64, eps=1e-05, momentum=0.1, affine=True, track_running_stats=True)\n",
       "      (relu): ReLU(inplace=True)\n",
       "      (conv2): Conv2d(64, 64, kernel_size=(3, 3), stride=(1, 1), padding=(1, 1), bias=False)\n",
       "      (bn2): BatchNorm2d(64, eps=1e-05, momentum=0.1, affine=True, track_running_stats=True)\n",
       "    )\n",
       "  )\n",
       "  (layer2): Sequential(\n",
       "    (0): BasicBlock(\n",
       "      (conv1): Conv2d(64, 128, kernel_size=(3, 3), stride=(2, 2), padding=(1, 1), bias=False)\n",
       "      (bn1): BatchNorm2d(128, eps=1e-05, momentum=0.1, affine=True, track_running_stats=True)\n",
       "      (relu): ReLU(inplace=True)\n",
       "      (conv2): Conv2d(128, 128, kernel_size=(3, 3), stride=(1, 1), padding=(1, 1), bias=False)\n",
       "      (bn2): BatchNorm2d(128, eps=1e-05, momentum=0.1, affine=True, track_running_stats=True)\n",
       "      (downsample): Sequential(\n",
       "        (0): Conv2d(64, 128, kernel_size=(1, 1), stride=(2, 2), bias=False)\n",
       "        (1): BatchNorm2d(128, eps=1e-05, momentum=0.1, affine=True, track_running_stats=True)\n",
       "      )\n",
       "    )\n",
       "    (1): BasicBlock(\n",
       "      (conv1): Conv2d(128, 128, kernel_size=(3, 3), stride=(1, 1), padding=(1, 1), bias=False)\n",
       "      (bn1): BatchNorm2d(128, eps=1e-05, momentum=0.1, affine=True, track_running_stats=True)\n",
       "      (relu): ReLU(inplace=True)\n",
       "      (conv2): Conv2d(128, 128, kernel_size=(3, 3), stride=(1, 1), padding=(1, 1), bias=False)\n",
       "      (bn2): BatchNorm2d(128, eps=1e-05, momentum=0.1, affine=True, track_running_stats=True)\n",
       "    )\n",
       "  )\n",
       "  (layer3): Sequential(\n",
       "    (0): BasicBlock(\n",
       "      (conv1): Conv2d(128, 256, kernel_size=(3, 3), stride=(2, 2), padding=(1, 1), bias=False)\n",
       "      (bn1): BatchNorm2d(256, eps=1e-05, momentum=0.1, affine=True, track_running_stats=True)\n",
       "      (relu): ReLU(inplace=True)\n",
       "      (conv2): Conv2d(256, 256, kernel_size=(3, 3), stride=(1, 1), padding=(1, 1), bias=False)\n",
       "      (bn2): BatchNorm2d(256, eps=1e-05, momentum=0.1, affine=True, track_running_stats=True)\n",
       "      (downsample): Sequential(\n",
       "        (0): Conv2d(128, 256, kernel_size=(1, 1), stride=(2, 2), bias=False)\n",
       "        (1): BatchNorm2d(256, eps=1e-05, momentum=0.1, affine=True, track_running_stats=True)\n",
       "      )\n",
       "    )\n",
       "    (1): BasicBlock(\n",
       "      (conv1): Conv2d(256, 256, kernel_size=(3, 3), stride=(1, 1), padding=(1, 1), bias=False)\n",
       "      (bn1): BatchNorm2d(256, eps=1e-05, momentum=0.1, affine=True, track_running_stats=True)\n",
       "      (relu): ReLU(inplace=True)\n",
       "      (conv2): Conv2d(256, 256, kernel_size=(3, 3), stride=(1, 1), padding=(1, 1), bias=False)\n",
       "      (bn2): BatchNorm2d(256, eps=1e-05, momentum=0.1, affine=True, track_running_stats=True)\n",
       "    )\n",
       "  )\n",
       "  (layer4): Sequential(\n",
       "    (0): BasicBlock(\n",
       "      (conv1): Conv2d(256, 512, kernel_size=(3, 3), stride=(2, 2), padding=(1, 1), bias=False)\n",
       "      (bn1): BatchNorm2d(512, eps=1e-05, momentum=0.1, affine=True, track_running_stats=True)\n",
       "      (relu): ReLU(inplace=True)\n",
       "      (conv2): Conv2d(512, 512, kernel_size=(3, 3), stride=(1, 1), padding=(1, 1), bias=False)\n",
       "      (bn2): BatchNorm2d(512, eps=1e-05, momentum=0.1, affine=True, track_running_stats=True)\n",
       "      (downsample): Sequential(\n",
       "        (0): Conv2d(256, 512, kernel_size=(1, 1), stride=(2, 2), bias=False)\n",
       "        (1): BatchNorm2d(512, eps=1e-05, momentum=0.1, affine=True, track_running_stats=True)\n",
       "      )\n",
       "    )\n",
       "    (1): BasicBlock(\n",
       "      (conv1): Conv2d(512, 512, kernel_size=(3, 3), stride=(1, 1), padding=(1, 1), bias=False)\n",
       "      (bn1): BatchNorm2d(512, eps=1e-05, momentum=0.1, affine=True, track_running_stats=True)\n",
       "      (relu): ReLU(inplace=True)\n",
       "      (conv2): Conv2d(512, 512, kernel_size=(3, 3), stride=(1, 1), padding=(1, 1), bias=False)\n",
       "      (bn2): BatchNorm2d(512, eps=1e-05, momentum=0.1, affine=True, track_running_stats=True)\n",
       "    )\n",
       "  )\n",
       "  (avgpool): AdaptiveAvgPool2d(output_size=(1, 1))\n",
       "  (fc): Linear(in_features=512, out_features=9, bias=True)\n",
       ")"
      ]
     },
     "execution_count": 60,
     "metadata": {},
     "output_type": "execute_result"
    }
   ],
   "source": [
    "train(model, train_loader, valid_loader)\n",
    "\n"
   ]
  },
  {
   "cell_type": "code",
   "execution_count": 12,
   "metadata": {},
   "outputs": [
    {
     "data": {
      "text/plain": [
       "<All keys matched successfully>"
      ]
     },
     "execution_count": 12,
     "metadata": {},
     "output_type": "execute_result"
    }
   ],
   "source": [
    "model.load_state_dict(torch.load('./BestModelResNet18.pth'))"
   ]
  },
  {
   "cell_type": "code",
   "execution_count": 13,
   "metadata": {},
   "outputs": [
    {
     "name": "stdout",
     "output_type": "stream",
     "text": [
      "val_loss: 0.66445, val_acc: 0.84289\n"
     ]
    }
   ],
   "source": [
    "### Just for check valid set result\n",
    "\n",
    "acc_eval, loss_eval = eval(model, valid_loader)\n",
    "print('val_loss: {:.05f}, val_acc: {:.05f}'.format(loss_eval, acc_eval))"
   ]
  },
  {
   "cell_type": "code",
   "execution_count": 47,
   "metadata": {},
   "outputs": [],
   "source": [
    "# In this part, we hope we can save the weight for different models.\n",
    "if Ourmodel == 'ResNet18':\n",
    "    \n",
    "    # Save the weight of current model to disk\n",
    "    PATH = './ResNet18.pth'\n",
    "    torch.save(model.state_dict(), PATH)\n",
    "    # Load the model weights\n",
    "    model.load_state_dict(torch.load('./ResNet18.pth'))\n",
    "\n",
    "if Ourmodel == 'ResNet50':\n",
    "    \n",
    "    # Save the weight of current model to disk\n",
    "    PATH = './ResNet50.pth'\n",
    "    torch.save(model.state_dict(), PATH)\n",
    "    # Load the model weights\n",
    "    model.load_state_dict(torch.load('./ResNet50.pth'))"
   ]
  },
  {
   "cell_type": "code",
   "execution_count": 59,
   "metadata": {},
   "outputs": [],
   "source": [
    "# Define best model name and record temporily\n",
    "PATH = './BestModel***.pth'\n",
    "torch.save(model.state_dict(), PATH)"
   ]
  },
  {
   "cell_type": "markdown",
   "metadata": {},
   "source": [
    "**Record for Train and Valid Set Accuracy**\n",
    "* ResNet50: 96% and 80% ---- 0.01 lr, 1e-4 weight decay and 32 batch size \n",
    "* ResNet18: 96% and 82% ---- 0.01 lr, 1e-4 weight decay and 128 batch size\n",
    "* ResNet18: 92% and 78% ---- 0.005 lr, 1e-4 weight decay and 32 batch size\n",
    "* ResNet18: 98% and 84.2% ---- 0.006 lr and lr decay, 1e-10 weight decay and 64 batch size"
   ]
  },
  {
   "cell_type": "markdown",
   "metadata": {},
   "source": [
    "### Run test set on our model"
   ]
  },
  {
   "cell_type": "code",
   "execution_count": 14,
   "metadata": {},
   "outputs": [],
   "source": [
    "def getTestData(csv_file='./group_002_test.csv', batch_size=64, num_workers=0):\n",
    "    __normalize_stats = {'mean': [0.5], 'std': [0.5]}\n",
    "\n",
    "    transformed_eval = MiniImageNetDataset(csv_file=csv_file,\n",
    "                                        transform=transforms.Compose([\n",
    "                                            transforms.Resize(224),\n",
    "                                            transforms.ToTensor(),\n",
    "                                            transforms.Normalize(__normalize_stats['mean'],\n",
    "                                                      __normalize_stats['std'])\n",
    "                                        ]))\n",
    "    \n",
    "    # DataLoader shuffle=False\n",
    "    dataloader_eval = DataLoader(transformed_eval, batch_size, shuffle=False, num_workers=num_workers)\n",
    "\n",
    "    return dataloader_eval"
   ]
  },
  {
   "cell_type": "code",
   "execution_count": 15,
   "metadata": {},
   "outputs": [],
   "source": [
    "test_loader = getTestData(csv_file='./group_002_test.csv', batch_size=64, num_workers=0)"
   ]
  },
  {
   "cell_type": "markdown",
   "metadata": {},
   "source": [
    "**Import Model**"
   ]
  },
  {
   "cell_type": "code",
   "execution_count": 12,
   "metadata": {},
   "outputs": [
    {
     "data": {
      "text/plain": [
       "<All keys matched successfully>"
      ]
     },
     "execution_count": 12,
     "metadata": {},
     "output_type": "execute_result"
    }
   ],
   "source": [
    "model.load_state_dict(torch.load('./BestModelResNet18.pth'))"
   ]
  },
  {
   "cell_type": "markdown",
   "metadata": {},
   "source": [
    "**Define function to write the file into 'test.txt' file**"
   ]
  },
  {
   "cell_type": "code",
   "execution_count": 16,
   "metadata": {},
   "outputs": [],
   "source": [
    "def getPretest(net, data_loader):\n",
    "    net.eval()\n",
    "    # Create new file\n",
    "    f= open(\"test28_12.txt\",\"w+\")\n",
    "    for i, sample in enumerate(data_loader):\n",
    "        #Define image for cuda\n",
    "        images, labels = sample['image'], sample['label']\n",
    "        batch_size = len(images)\n",
    "        images, labels = images.to(device),labels.to(device)\n",
    "        outs = net(images)\n",
    "        _, preds = outs.max(1)\n",
    "        # Write down txt\n",
    "        for k in range(batch_size):\n",
    "            f.write(str(preds[k].item()) + '\\n')\n"
   ]
  },
  {
   "cell_type": "code",
   "execution_count": 18,
   "metadata": {},
   "outputs": [],
   "source": [
    "getPretest(model, test_loader)"
   ]
  },
  {
   "cell_type": "code",
   "execution_count": null,
   "metadata": {},
   "outputs": [],
   "source": []
  }
 ],
 "metadata": {
  "kernelspec": {
   "display_name": "Python 3",
   "language": "python",
   "name": "python3"
  },
  "language_info": {
   "codemirror_mode": {
    "name": "ipython",
    "version": 3
   },
   "file_extension": ".py",
   "mimetype": "text/x-python",
   "name": "python",
   "nbconvert_exporter": "python",
   "pygments_lexer": "ipython3",
   "version": "3.7.3"
  }
 },
 "nbformat": 4,
 "nbformat_minor": 2
}
