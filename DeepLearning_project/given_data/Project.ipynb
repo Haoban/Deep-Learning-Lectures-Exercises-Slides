{
 "cells": [
  {
   "cell_type": "markdown",
   "metadata": {},
   "source": [
    "# 521153S, Deep Learning Final Project: Mini Image classification Competition with CNN"
   ]
  },
  {
   "cell_type": "markdown",
   "metadata": {},
   "source": [
    "## Outline \n",
    "### In this assignment, you will learn:\n",
    "* Combine all you learned from the previous assignments.\n",
    "* Build your own CNN as you like with Pytorch, train and validate it on a given dataset.\n",
    "* Test your CNN model on our server.\n",
    "\n",
    "### Tasks (<span style=\"color:orange\">40 points</span>)\n",
    "We want to keep the task as clean and simple as possible. \n",
    "1. You would be given a dataset containing 45,000 grayscale 32x32 images. Also, we will set a private testing data and upload it to our server. You could only use the private testing data to test your model. Instructions about evaluating your model would be given along with the project in Moodle.\n",
    "2. Before evaluating your model on the server, you have to train your model based on the given 45,000 images. Specifically, in these images, there are nine classes, and each class has 5000 images. The testing data on the server has 9000 images, and each class has 1000 images.\n",
    "3. To get a good CNN model, basically, there are some rules for you to follow which would be considered when grading your report:\n",
    "  * Make the best out of the given images. It means you have to split it into training and validation set, training your model on the training set and validating the trained model on the validation set. If the accuracy on the validation set is not good, then you have to adjust your CNN model structure or some adjustable parameters. For example, batch size, learning rate, momentum on SGD, lambda in weight decay, etc.  Then retrain your model until the accuracy on the validation set is good enough because the testing data would have similar accuracy with the validation set. \n",
    "  * It also means that you could do some augmentation on the training set. This includes randomly flipping, cropping a small window in a random location within the image(refer to assignment 4), adding some noise, resizing-and-cropping, etc. All these are to make the training process more tolerant. \n",
    "  * From the CNN structure perspective, you also need to design your CNN model by yourself. Well-known network architecture you can use includes [ResNet](https://arxiv.org/abs/1512.03385), [Inception](https://arxiv.org/abs/1512.00567), [VGGNet](https://arxiv.org/abs/1409.1556), [DenseNet](https://arxiv.org/abs/1608.06993), [MobileNet](https://arxiv.org/abs/1801.04381), [ShuffleNet](https://arxiv.org/abs/1807.11164), [ResNeXt](https://arxiv.org/abs/1611.05431) etc. \n",
    "4. Similar to real-life applications, your model will be tested with unknown data. In this project,  after training and validating the model, you need to test it on our hold-on testing dataset. We will provide you with a submission server and a leaderboard. The instructions would be given alongside the project in Moodle. \n",
    "5. Please give a pdf report (also your source code, e.g., this Jupyter notebook file), documenting the whole model training process and also the evaluated accuracy on the server. Tensorboard visualization is also necessary for your report to visualize your network structure, accuracy, and losses, etc. as done in assignment 4.\n",
    "6. You need to return the pdf report as well as your trained model (a checkpoint file) with your source code file to moodle. We will run your model on the server and compare the results with the one written in the reports. \n",
    "\n",
    "### Grading\n",
    "You can get 40 points in total.\n",
    "  * You will get <span style=\"color:orange;font-weight:bold\">20 points</span> if your model achieve more than 82.5% of the testing accuracy.\n",
    "  * You will get <span style=\"color:orange;font-weight:bold\">20 points</span> if your report is clear and well-organized.\n",
    "  \n",
    "### Files you have to submit\n",
    "please submit a .zip file containing:\n",
    "1. a pdf report;\n",
    "2. source code files (jupyter notebook or common python files);\n",
    "3. a checkpoint file (which saves your trained model).\n",
    "\n",
    "### Group members\n",
    "Maximum 2 members. \n",
    "\n",
    "\n",
    "### Environment\n",
    "Python 3, Numpy, matplotlib, torch, torchvision...\n",
    "\n",
    "### Dataset\n",
    "Please follow the code below to download the 45,000 images and corresponding labels. <br>\n",
    "We have already split them into training and validation set; please refer to assignment 3 and 4 to create your DataLoader, with your data augmentation methods. Good luck. "
   ]
  },
  {
   "cell_type": "markdown",
   "metadata": {},
   "source": [
    "#### Download the given dataset"
   ]
  },
  {
   "cell_type": "code",
   "execution_count": 2,
   "metadata": {},
   "outputs": [
    {
     "name": "stdout",
     "output_type": "stream",
     "text": [
      "Data was already downloaded and extracted!\n"
     ]
    }
   ],
   "source": [
    "# import necessary packages\n",
    "import os, time\n",
    "import torch \n",
    "import requests, zipfile, sys\n",
    "import numpy as np\n",
    "import matplotlib.pyplot as plt \n",
    "from torch.utils.data import Dataset, DataLoader\n",
    "from utils import download_given_data, get_preds_figure\n",
    "import torchvision\n",
    "from PIL import Image\n",
    "import torch\n",
    "import torch.nn as nn\n",
    "import torch.nn.functional as F\n",
    "import torch.optim as optim\n",
    "from torchvision import transforms, utils\n",
    "import random, matplotlib\n",
    "import pandas as pd\n",
    "from torchvision.models.resnet import BasicBlock\n",
    "from torch.utils.tensorboard import SummaryWriter\n",
    "\n",
    "download_given_data('./')"
   ]
  },
  {
   "cell_type": "markdown",
   "metadata": {},
   "source": [
    "**Create a dataset class for our Mini ImageNet dataset**"
   ]
  },
  {
   "cell_type": "code",
   "execution_count": 3,
   "metadata": {},
   "outputs": [],
   "source": [
    "class MiniImageNetDataset(Dataset):\n",
    "\n",
    "    def __init__(self, csv_file, transform=None):\n",
    "        # Read the csv file\n",
    "        self.frame = pd.read_csv(csv_file, header=None)\n",
    "        self.transform = transform\n",
    "        \n",
    "        self.label_names = ['airplane', 'automobile', 'bird', 'cat', 'deer', \n",
    "               'dog', 'frog', 'horse', 'ship']\n",
    "\n",
    "    def __getitem__(self, idx):\n",
    "        image_name = self.frame.iloc[idx, 0]\n",
    "        image = Image.open(image_name)\n",
    "        \n",
    "        label = self.frame.iloc[idx, 1]\n",
    "\n",
    "        if self.transform:\n",
    "            image = self.transform(image)\n",
    "            \n",
    "        sample = {'image': image, 'label': label}\n",
    "\n",
    "        return sample\n",
    "\n",
    "    def __len__(self):\n",
    "        return len(self.frame)"
   ]
  },
  {
   "cell_type": "markdown",
   "metadata": {},
   "source": [
    "### Dataset checking ###"
   ]
  },
  {
   "cell_type": "code",
   "execution_count": 6,
   "metadata": {},
   "outputs": [
    {
     "data": {
      "image/png": "[encoded data removed]",
      "text/plain": [
       "<Figure size 1152x576 with 5 Axes>"
      ]
     },
     "metadata": {
      "needs_background": "light"
     },
     "output_type": "display_data"
    },
    {
     "name": "stdout",
     "output_type": "stream",
     "text": [
      "total number of training set: 36000\n",
      "numer of images for class airplane: 4000\n",
      "numer of images for class automobile: 4000\n",
      "numer of images for class bird: 4000\n",
      "numer of images for class cat: 4000\n",
      "numer of images for class deer: 4000\n",
      "numer of images for class dog: 4000\n",
      "numer of images for class frog: 4000\n",
      "numer of images for class horse: 4000\n",
      "numer of images for class ship: 4000\n"
     ]
    }
   ],
   "source": [
    "train_set = MiniImageNetDataset(csv_file='./given_data/train.csv', transform=None)\n",
    "\n",
    "num_to_show = 5\n",
    "idx = np.random.choice(range(len(train_set)), num_to_show, replace=False)\n",
    "\n",
    "fig = plt.figure(figsize=(16, 8))\n",
    "\n",
    "for i in range(len(idx)):\n",
    "    image, label = train_set[idx[i]]['image'], train_set[idx[i]]['label']\n",
    "    label_name = train_set.label_names[label]\n",
    "\n",
    "    ax = plt.subplot(1, num_to_show, i + 1)\n",
    "    plt.tight_layout()\n",
    "    ax.set_title('class #{}'.format(label_name))\n",
    "    ax.axis('off')\n",
    "    plt.imshow(np.asarray(image), cmap=matplotlib.cm.binary)\n",
    "\n",
    "plt.show()\n",
    "\n",
    "# Print the number of total images in the training set\n",
    "print('total number of training set: {}'.format(len(train_set)))\n",
    "\n",
    "# Print the number of images per class in the training set\n",
    "class_num_train = np.zeros(10, dtype=np.int32)\n",
    "for x in train_set:\n",
    "    class_num_train[x['label']] += 1\n",
    "for i in range(9):\n",
    "    print('numer of images for class {}: {}'.format(train_set.label_names[i], class_num_train[i]))"
   ]
  },
  {
   "cell_type": "code",
   "execution_count": 11,
   "metadata": {},
   "outputs": [
    {
     "data": {
      "image/png": "[encoded data removed]",
      "text/plain": [
       "<Figure size 1152x576 with 5 Axes>"
      ]
     },
     "metadata": {
      "needs_background": "light"
     },
     "output_type": "display_data"
    },
    {
     "name": "stdout",
     "output_type": "stream",
     "text": [
      "total number of validing set: 9000\n",
      "numer of images for class airplane: 1000\n",
      "numer of images for class automobile: 1000\n",
      "numer of images for class bird: 1000\n",
      "numer of images for class cat: 1000\n",
      "numer of images for class deer: 1000\n",
      "numer of images for class dog: 1000\n",
      "numer of images for class frog: 1000\n",
      "numer of images for class horse: 1000\n",
      "numer of images for class ship: 1000\n"
     ]
    }
   ],
   "source": [
    "valid_set =  MiniImageNetDataset(csv_file='./given_data/val.csv', transform=None)\n",
    "\n",
    "num_to_show = 5\n",
    "idx = np.random.choice(range(len(valid_set)), num_to_show, replace=False)\n",
    "\n",
    "fig = plt.figure(figsize=(16, 8))\n",
    "\n",
    "for i in range(len(idx)):\n",
    "    image, label = valid_set[idx[i]]['image'], valid_set[idx[i]]['label']\n",
    "    label_name = valid_set.label_names[label]    \n",
    "\n",
    "    # TODO: show plots\n",
    "    ax = plt.subplot(1, num_to_show, i + 1)\n",
    "    plt.tight_layout()\n",
    "    ax.set_title('class #{}'.format(label_name))\n",
    "    ax.axis('off')\n",
    "    plt.imshow(np.asarray(image), cmap=matplotlib.cm.binary)\n",
    "\n",
    "plt.show()\n",
    "\n",
    "# TODO: Print the number of total images in the validation set    \n",
    "print('total number of validing set: {}'.format(len(valid_set)))\n",
    "\n",
    "# TODO: Print the number of images per class in the validation set\n",
    "class_num_val = np.zeros(10, dtype=np.int32)\n",
    "for x in valid_set:\n",
    "    class_num_val[x['label']] += 1\n",
    "for i in range(9):\n",
    "    print('numer of images for class {}: {}'.format(valid_set.label_names[i], class_num_val[i]))"
   ]
  },
  {
   "cell_type": "markdown",
   "metadata": {},
   "source": [
    "### Build our custom data augmentation"
   ]
  },
  {
   "cell_type": "markdown",
   "metadata": {},
   "source": [
    "We can define a custom data transformation for data augmentation namely RandomWindowDrop. There are 50%/50% chance that it will randomly cut a square window inside our image or horizontally flip the image."
   ]
  },
  {
   "cell_type": "code",
   "execution_count": 15,
   "metadata": {},
   "outputs": [],
   "source": [
    "class RandomWindowDrop(object):\n",
    "    def __init__(self, window_size):\n",
    "        assert isinstance(window_size, (int, tuple))\n",
    "        if isinstance(window_size, int):\n",
    "            self.window_size = (window_size, window_size)\n",
    "        else:\n",
    "            assert len(window_size) == 2\n",
    "            self.window_size = window_size\n",
    "        \n",
    "        # Define a horizontalFlip\n",
    "        self.trans = transforms.RandomHorizontalFlip(p=1.0)\n",
    "\n",
    "    def __call__(self, sample):\n",
    "        image = sample\n",
    "\n",
    "        # Perform either RandomWindowDrop or RandomHorizontalFlip\n",
    "        if random.random() < 0.5:\n",
    "            h, w = image.size\n",
    "            imagePixels = image.load()\n",
    "            top = np.random.randint(self.window_size[0], h - self.window_size[0])\n",
    "            left = np.random.randint(self.window_size[1], w - self.window_size[1])\n",
    "            for i in range(top, top+self.window_size[0], 1):\n",
    "                for j in range(left, left+self.window_size[1], 1):   \n",
    "                    imagePixels[i, j] = 0\n",
    "        else:\n",
    "            image = self.trans(image)\n",
    "\n",
    "        return image"
   ]
  },
  {
   "cell_type": "markdown",
   "metadata": {},
   "source": [
    "**Load the training/validation data to Dataloader**"
   ]
  },
  {
   "cell_type": "code",
   "execution_count": 17,
   "metadata": {},
   "outputs": [],
   "source": [
    "def getTrainingData(csv_file='./given_data/train.csv', batch_size=64, num_workers=0):\n",
    "    __normalize_stats = {'mean': [0.5], 'std': [0.5]}\n",
    "\n",
    "    # transforms.Compose create a list of transformations\n",
    "    transformed_training = MiniImageNetDataset(csv_file=csv_file,\n",
    "                                        transform=transforms.Compose([\n",
    "                                            RandomWindowDrop(6),\n",
    "                                            transforms.Resize(224),\n",
    "                                            transforms.ToTensor(),\n",
    "                                            transforms.Normalize(__normalize_stats['mean'],\n",
    "                                                      __normalize_stats['std'])\n",
    "                                        ]))\n",
    "\n",
    "    dataloader_training = DataLoader(transformed_training, batch_size, shuffle=True, num_workers=num_workers)\n",
    "\n",
    "    return dataloader_training\n",
    "\n",
    "\n",
    "def getEvalData(csv_file='./given_data/val.csv', batch_size=64, num_workers=0):\n",
    "    __normalize_stats = {'mean': [0.5], 'std': [0.5]}\n",
    "    # TODO: Part 1.4 (1 point)\n",
    "    transformed_eval = MiniImageNetDataset(csv_file=csv_file,\n",
    "                                        transform=transforms.Compose([\n",
    "                                            RandomWindowDrop(6),\n",
    "                                            transforms.Resize(224),\n",
    "                                            transforms.ToTensor(),\n",
    "                                            transforms.Normalize(__normalize_stats['mean'],\n",
    "                                                      __normalize_stats['std'])\n",
    "                                        ]))\n",
    "    \n",
    "    # DataLoader shuffle=False\n",
    "    dataloader_eval = DataLoader(transformed_eval, batch_size, shuffle=True, num_workers=num_workers)\n",
    "\n",
    "    return dataloader_eval"
   ]
  },
  {
   "cell_type": "code",
   "execution_count": 19,
   "metadata": {},
   "outputs": [],
   "source": [
    "train_loader = getTrainingData(csv_file='./given_data/train.csv', batch_size=64, num_workers=0)\n",
    "\n",
    "# TODO: create valid_loader with no shuffling (0.5 points)\n",
    "# batch_size = 64\n",
    "valid_loader = getEvalData(csv_file='./given_data/val.csv', batch_size=64, num_workers=0)"
   ]
  },
  {
   "cell_type": "markdown",
   "metadata": {},
   "source": [
    "###  Define the Network Architecture in Pytorch ###"
   ]
  },
  {
   "cell_type": "code",
   "execution_count": 34,
   "metadata": {},
   "outputs": [],
   "source": [
    "## ------ ResNet18 -------- ##\n",
    "class ResNet18_Fashion_MNIST(torchvision.models.ResNet):\n",
    "    def __init__(self, num_classes=9):\n",
    "        super(ResNet18_Fashion_MNIST, self).__init__(BasicBlock, [2, 2, 2, 2], num_classes=num_classes)\n",
    "        # Override the \"conv1\" layer from the resnet-18 model\n",
    "        self.conv1 = nn.Conv2d(1, 64, kernel_size=7, stride=2, padding=3, bias=False)\n",
    "        \n",
    "    def forward(self, x):\n",
    "        return super(ResNet18_Fashion_MNIST, self).forward(x)"
   ]
  },
  {
   "cell_type": "code",
   "execution_count": null,
   "metadata": {},
   "outputs": [],
   "source": [
    "### Define ResNet and modify some layers\n",
    "## ------ ResNet50 -------- ##\n",
    "\n",
    "resnet50 = models.resnet50(pretrained=False)\n",
    "### Modify the number of neurons in output layer ---- set 9 classes\n",
    "resnet.fc = nn.Linear(2048, 9) \n",
    "resnet.conv1 = nn.Conv2d(3, 64,kernel_size=5, stride=2, padding=3, bias=False)"
   ]
  },
  {
   "cell_type": "markdown",
   "metadata": {},
   "source": [
    "### Set Parameteres ###"
   ]
  },
  {
   "cell_type": "code",
   "execution_count": 39,
   "metadata": {},
   "outputs": [],
   "source": [
    "#Initialize the network and optimizer\n",
    "model = ResNet18_Fashion_MNIST(num_classes= 9).float()\n",
    "\n",
    "device = torch.device(\"cuda\" if torch.cuda.is_available() else \"cpu\")\n",
    "#####Change model to cuda\n",
    "if torch.cuda.is_available():\n",
    "    model = model.cuda()\n",
    "\n",
    "# Declare the optimizer for the network\n",
    "# optimizer = torch.optim.Adam(model.parameters(), lr=1e-4)"
   ]
  },
  {
   "cell_type": "code",
   "execution_count": 37,
   "metadata": {},
   "outputs": [],
   "source": [
    "# evaluation function\n",
    "def eval(net, data_loader):\n",
    "    net.eval()\n",
    "    correct = 0.0\n",
    "    num_images = 0.0\n",
    "    for i_batch, (images, labels) in enumerate(data_loader):\n",
    "        outs = net(images) \n",
    "        _, preds = outs.max(1)\n",
    "        correct += preds.eq(labels).sum()\n",
    "        num_images += len(labels)\n",
    "        \n",
    "    correct = correct.type(torch.DoubleTensor)\n",
    "    acc = correct / num_images\n",
    "    return acc\n",
    "\n",
    "# training function\n",
    "def train(net, train_loader, valid_loader):\n",
    "    loss_function = torch.nn.CrossEntropyLoss()\n",
    "    start_t = time.time()\n",
    "    # TODO: build your SGD optimizer with learning rate=0.01, momentum=0.9, no weight decay (0.5 points)\n",
    "    ### Set Weight dacay as e-4\n",
    "    optimizer = optim.SGD(net.parameters(), lr=0.01, momentum=0.9, weight_decay= 1e-4)\n",
    "    \n",
    "    #fill the blank bracket\n",
    "    ### Increase epoches as 20\n",
    "    epoches = 2\n",
    "    for epoch in range(epoches):\n",
    "        start_t = time.time()\n",
    "        net.train() \n",
    "        running_loss = 0.0\n",
    "        running_acc = 0.0\n",
    "#         ### set learning rate decay\n",
    "#         if epoch % 4 is 1:\n",
    "#             learning_rate = learning_rate * 0.8\n",
    "#             optimizer = optim.SGD(net.parameters(), lr=learning_rate, momentum=0.9, weight_decay= 1e-10) \n",
    "        for i, sample in enumerate(train_loader):\n",
    "            images, labels = sample['image'], sample['label']\n",
    "            images, labels = images.to(device),labels.to(device)\n",
    "            # TODO: fill these blanks (0.5 points)\n",
    "            outs = net(images)\n",
    "            loss = loss_function(outs, labels) \n",
    "            _, preds = outs.max(1)\n",
    "            correct = preds.eq(labels).sum()\n",
    "            running_acc += correct.float() / len(labels)\n",
    "            \n",
    "            # TODO: clear grads (0.5 points)          \n",
    "            optimizer.zero_grad()\n",
    "            \n",
    "            # TODO: backward propogation (0.5 points)\n",
    "            loss = loss_function(outs, labels)\n",
    "            loss.backward()\n",
    "\n",
    "            # TODO: update parameters (0.5 points)\n",
    "            optimizer.step()\n",
    "            net.eval()\n",
    "\n",
    "        correct = correct.type(torch.DoubleTensor)\n",
    "        acc = correct / num_images\n",
    "        acc_eval = eval(net, valid_loader)\n",
    "        print('epoch: %d, lr: %f, accuracy: %f, loss: %f, valid accuracy: %f' % (epoch, optimizer.param_groups[0]['lr'], acc, loss.item(), acc_eval))\n",
    "        print('Elapsed time: {:.02f} seconds'.format(time.time()-start_t))\n",
    "    return net"
   ]
  },
  {
   "cell_type": "code",
   "execution_count": 41,
   "metadata": {},
   "outputs": [
    {
     "ename": "RuntimeError",
     "evalue": "[enforce fail at ..\\c10\\core\\CPUAllocator.cpp:72] data. DefaultCPUAllocator: not enough memory: you tried to allocate 51380224 bytes. Buy new RAM!\n",
     "output_type": "error",
     "traceback": [
      "\u001b[1;31m---------------------------------------------------------------------------\u001b[0m",
      "\u001b[1;31mRuntimeError\u001b[0m                              Traceback (most recent call last)",
      "\u001b[1;32m<ipython-input-41-c157f64d8b40>\u001b[0m in \u001b[0;36m<module>\u001b[1;34m\u001b[0m\n\u001b[0;32m      2\u001b[0m     \u001b[0mnet\u001b[0m \u001b[1;33m=\u001b[0m \u001b[0mnet\u001b[0m\u001b[1;33m.\u001b[0m\u001b[0mcuda\u001b[0m\u001b[1;33m(\u001b[0m\u001b[1;33m)\u001b[0m\u001b[1;33m\u001b[0m\u001b[1;33m\u001b[0m\u001b[0m\n\u001b[0;32m      3\u001b[0m \u001b[1;33m\u001b[0m\u001b[0m\n\u001b[1;32m----> 4\u001b[1;33m \u001b[0mtrain\u001b[0m\u001b[1;33m(\u001b[0m\u001b[0mmodel\u001b[0m\u001b[1;33m,\u001b[0m \u001b[0mtrain_loader\u001b[0m\u001b[1;33m,\u001b[0m \u001b[0mvalid_loader\u001b[0m\u001b[1;33m)\u001b[0m\u001b[1;33m\u001b[0m\u001b[1;33m\u001b[0m\u001b[0m\n\u001b[0m",
      "\u001b[1;32m<ipython-input-37-01a2f9328737>\u001b[0m in \u001b[0;36mtrain\u001b[1;34m(net, train_loader, valid_loader)\u001b[0m\n\u001b[0;32m     38\u001b[0m             \u001b[0mimages\u001b[0m\u001b[1;33m,\u001b[0m \u001b[0mlabels\u001b[0m \u001b[1;33m=\u001b[0m \u001b[0mimages\u001b[0m\u001b[1;33m.\u001b[0m\u001b[0mto\u001b[0m\u001b[1;33m(\u001b[0m\u001b[0mdevice\u001b[0m\u001b[1;33m)\u001b[0m\u001b[1;33m,\u001b[0m\u001b[0mlabels\u001b[0m\u001b[1;33m.\u001b[0m\u001b[0mto\u001b[0m\u001b[1;33m(\u001b[0m\u001b[0mdevice\u001b[0m\u001b[1;33m)\u001b[0m\u001b[1;33m\u001b[0m\u001b[1;33m\u001b[0m\u001b[0m\n\u001b[0;32m     39\u001b[0m             \u001b[1;31m# TODO: fill these blanks (0.5 points)\u001b[0m\u001b[1;33m\u001b[0m\u001b[1;33m\u001b[0m\u001b[1;33m\u001b[0m\u001b[0m\n\u001b[1;32m---> 40\u001b[1;33m             \u001b[0mouts\u001b[0m \u001b[1;33m=\u001b[0m \u001b[0mnet\u001b[0m\u001b[1;33m(\u001b[0m\u001b[0mimages\u001b[0m\u001b[1;33m)\u001b[0m\u001b[1;33m\u001b[0m\u001b[1;33m\u001b[0m\u001b[0m\n\u001b[0m\u001b[0;32m     41\u001b[0m             \u001b[0mloss\u001b[0m \u001b[1;33m=\u001b[0m \u001b[0mloss_function\u001b[0m\u001b[1;33m(\u001b[0m\u001b[0mouts\u001b[0m\u001b[1;33m,\u001b[0m \u001b[0mlabels\u001b[0m\u001b[1;33m)\u001b[0m\u001b[1;33m\u001b[0m\u001b[1;33m\u001b[0m\u001b[0m\n\u001b[0;32m     42\u001b[0m             \u001b[0m_\u001b[0m\u001b[1;33m,\u001b[0m \u001b[0mpreds\u001b[0m \u001b[1;33m=\u001b[0m \u001b[0mouts\u001b[0m\u001b[1;33m.\u001b[0m\u001b[0mmax\u001b[0m\u001b[1;33m(\u001b[0m\u001b[1;36m1\u001b[0m\u001b[1;33m)\u001b[0m\u001b[1;33m\u001b[0m\u001b[1;33m\u001b[0m\u001b[0m\n",
      "\u001b[1;32mD:\\Anaconda\\envs\\Pytorch\\lib\\site-packages\\torch\\nn\\modules\\module.py\u001b[0m in \u001b[0;36m__call__\u001b[1;34m(self, *input, **kwargs)\u001b[0m\n\u001b[0;32m    545\u001b[0m             \u001b[0mresult\u001b[0m \u001b[1;33m=\u001b[0m \u001b[0mself\u001b[0m\u001b[1;33m.\u001b[0m\u001b[0m_slow_forward\u001b[0m\u001b[1;33m(\u001b[0m\u001b[1;33m*\u001b[0m\u001b[0minput\u001b[0m\u001b[1;33m,\u001b[0m \u001b[1;33m**\u001b[0m\u001b[0mkwargs\u001b[0m\u001b[1;33m)\u001b[0m\u001b[1;33m\u001b[0m\u001b[1;33m\u001b[0m\u001b[0m\n\u001b[0;32m    546\u001b[0m         \u001b[1;32melse\u001b[0m\u001b[1;33m:\u001b[0m\u001b[1;33m\u001b[0m\u001b[1;33m\u001b[0m\u001b[0m\n\u001b[1;32m--> 547\u001b[1;33m             \u001b[0mresult\u001b[0m \u001b[1;33m=\u001b[0m \u001b[0mself\u001b[0m\u001b[1;33m.\u001b[0m\u001b[0mforward\u001b[0m\u001b[1;33m(\u001b[0m\u001b[1;33m*\u001b[0m\u001b[0minput\u001b[0m\u001b[1;33m,\u001b[0m \u001b[1;33m**\u001b[0m\u001b[0mkwargs\u001b[0m\u001b[1;33m)\u001b[0m\u001b[1;33m\u001b[0m\u001b[1;33m\u001b[0m\u001b[0m\n\u001b[0m\u001b[0;32m    548\u001b[0m         \u001b[1;32mfor\u001b[0m \u001b[0mhook\u001b[0m \u001b[1;32min\u001b[0m \u001b[0mself\u001b[0m\u001b[1;33m.\u001b[0m\u001b[0m_forward_hooks\u001b[0m\u001b[1;33m.\u001b[0m\u001b[0mvalues\u001b[0m\u001b[1;33m(\u001b[0m\u001b[1;33m)\u001b[0m\u001b[1;33m:\u001b[0m\u001b[1;33m\u001b[0m\u001b[1;33m\u001b[0m\u001b[0m\n\u001b[0;32m    549\u001b[0m             \u001b[0mhook_result\u001b[0m \u001b[1;33m=\u001b[0m \u001b[0mhook\u001b[0m\u001b[1;33m(\u001b[0m\u001b[0mself\u001b[0m\u001b[1;33m,\u001b[0m \u001b[0minput\u001b[0m\u001b[1;33m,\u001b[0m \u001b[0mresult\u001b[0m\u001b[1;33m)\u001b[0m\u001b[1;33m\u001b[0m\u001b[1;33m\u001b[0m\u001b[0m\n",
      "\u001b[1;32m<ipython-input-34-9e277eeed002>\u001b[0m in \u001b[0;36mforward\u001b[1;34m(self, x)\u001b[0m\n\u001b[0;32m      7\u001b[0m \u001b[1;33m\u001b[0m\u001b[0m\n\u001b[0;32m      8\u001b[0m     \u001b[1;32mdef\u001b[0m \u001b[0mforward\u001b[0m\u001b[1;33m(\u001b[0m\u001b[0mself\u001b[0m\u001b[1;33m,\u001b[0m \u001b[0mx\u001b[0m\u001b[1;33m)\u001b[0m\u001b[1;33m:\u001b[0m\u001b[1;33m\u001b[0m\u001b[1;33m\u001b[0m\u001b[0m\n\u001b[1;32m----> 9\u001b[1;33m         \u001b[1;32mreturn\u001b[0m \u001b[0msuper\u001b[0m\u001b[1;33m(\u001b[0m\u001b[0mResNet18_Fashion_MNIST\u001b[0m\u001b[1;33m,\u001b[0m \u001b[0mself\u001b[0m\u001b[1;33m)\u001b[0m\u001b[1;33m.\u001b[0m\u001b[0mforward\u001b[0m\u001b[1;33m(\u001b[0m\u001b[0mx\u001b[0m\u001b[1;33m)\u001b[0m\u001b[1;33m\u001b[0m\u001b[1;33m\u001b[0m\u001b[0m\n\u001b[0m",
      "\u001b[1;32mD:\\Anaconda\\envs\\Pytorch\\lib\\site-packages\\torchvision\\models\\resnet.py\u001b[0m in \u001b[0;36mforward\u001b[1;34m(self, x)\u001b[0m\n\u001b[0;32m    197\u001b[0m         \u001b[0mx\u001b[0m \u001b[1;33m=\u001b[0m \u001b[0mself\u001b[0m\u001b[1;33m.\u001b[0m\u001b[0mbn1\u001b[0m\u001b[1;33m(\u001b[0m\u001b[0mx\u001b[0m\u001b[1;33m)\u001b[0m\u001b[1;33m\u001b[0m\u001b[1;33m\u001b[0m\u001b[0m\n\u001b[0;32m    198\u001b[0m         \u001b[0mx\u001b[0m \u001b[1;33m=\u001b[0m \u001b[0mself\u001b[0m\u001b[1;33m.\u001b[0m\u001b[0mrelu\u001b[0m\u001b[1;33m(\u001b[0m\u001b[0mx\u001b[0m\u001b[1;33m)\u001b[0m\u001b[1;33m\u001b[0m\u001b[1;33m\u001b[0m\u001b[0m\n\u001b[1;32m--> 199\u001b[1;33m         \u001b[0mx\u001b[0m \u001b[1;33m=\u001b[0m \u001b[0mself\u001b[0m\u001b[1;33m.\u001b[0m\u001b[0mmaxpool\u001b[0m\u001b[1;33m(\u001b[0m\u001b[0mx\u001b[0m\u001b[1;33m)\u001b[0m\u001b[1;33m\u001b[0m\u001b[1;33m\u001b[0m\u001b[0m\n\u001b[0m\u001b[0;32m    200\u001b[0m \u001b[1;33m\u001b[0m\u001b[0m\n\u001b[0;32m    201\u001b[0m         \u001b[0mx\u001b[0m \u001b[1;33m=\u001b[0m \u001b[0mself\u001b[0m\u001b[1;33m.\u001b[0m\u001b[0mlayer1\u001b[0m\u001b[1;33m(\u001b[0m\u001b[0mx\u001b[0m\u001b[1;33m)\u001b[0m\u001b[1;33m\u001b[0m\u001b[1;33m\u001b[0m\u001b[0m\n",
      "\u001b[1;32mD:\\Anaconda\\envs\\Pytorch\\lib\\site-packages\\torch\\nn\\modules\\module.py\u001b[0m in \u001b[0;36m__call__\u001b[1;34m(self, *input, **kwargs)\u001b[0m\n\u001b[0;32m    545\u001b[0m             \u001b[0mresult\u001b[0m \u001b[1;33m=\u001b[0m \u001b[0mself\u001b[0m\u001b[1;33m.\u001b[0m\u001b[0m_slow_forward\u001b[0m\u001b[1;33m(\u001b[0m\u001b[1;33m*\u001b[0m\u001b[0minput\u001b[0m\u001b[1;33m,\u001b[0m \u001b[1;33m**\u001b[0m\u001b[0mkwargs\u001b[0m\u001b[1;33m)\u001b[0m\u001b[1;33m\u001b[0m\u001b[1;33m\u001b[0m\u001b[0m\n\u001b[0;32m    546\u001b[0m         \u001b[1;32melse\u001b[0m\u001b[1;33m:\u001b[0m\u001b[1;33m\u001b[0m\u001b[1;33m\u001b[0m\u001b[0m\n\u001b[1;32m--> 547\u001b[1;33m             \u001b[0mresult\u001b[0m \u001b[1;33m=\u001b[0m \u001b[0mself\u001b[0m\u001b[1;33m.\u001b[0m\u001b[0mforward\u001b[0m\u001b[1;33m(\u001b[0m\u001b[1;33m*\u001b[0m\u001b[0minput\u001b[0m\u001b[1;33m,\u001b[0m \u001b[1;33m**\u001b[0m\u001b[0mkwargs\u001b[0m\u001b[1;33m)\u001b[0m\u001b[1;33m\u001b[0m\u001b[1;33m\u001b[0m\u001b[0m\n\u001b[0m\u001b[0;32m    548\u001b[0m         \u001b[1;32mfor\u001b[0m \u001b[0mhook\u001b[0m \u001b[1;32min\u001b[0m \u001b[0mself\u001b[0m\u001b[1;33m.\u001b[0m\u001b[0m_forward_hooks\u001b[0m\u001b[1;33m.\u001b[0m\u001b[0mvalues\u001b[0m\u001b[1;33m(\u001b[0m\u001b[1;33m)\u001b[0m\u001b[1;33m:\u001b[0m\u001b[1;33m\u001b[0m\u001b[1;33m\u001b[0m\u001b[0m\n\u001b[0;32m    549\u001b[0m             \u001b[0mhook_result\u001b[0m \u001b[1;33m=\u001b[0m \u001b[0mhook\u001b[0m\u001b[1;33m(\u001b[0m\u001b[0mself\u001b[0m\u001b[1;33m,\u001b[0m \u001b[0minput\u001b[0m\u001b[1;33m,\u001b[0m \u001b[0mresult\u001b[0m\u001b[1;33m)\u001b[0m\u001b[1;33m\u001b[0m\u001b[1;33m\u001b[0m\u001b[0m\n",
      "\u001b[1;32mD:\\Anaconda\\envs\\Pytorch\\lib\\site-packages\\torch\\nn\\modules\\pooling.py\u001b[0m in \u001b[0;36mforward\u001b[1;34m(self, input)\u001b[0m\n\u001b[0;32m    139\u001b[0m         return F.max_pool2d(input, self.kernel_size, self.stride,\n\u001b[0;32m    140\u001b[0m                             \u001b[0mself\u001b[0m\u001b[1;33m.\u001b[0m\u001b[0mpadding\u001b[0m\u001b[1;33m,\u001b[0m \u001b[0mself\u001b[0m\u001b[1;33m.\u001b[0m\u001b[0mdilation\u001b[0m\u001b[1;33m,\u001b[0m \u001b[0mself\u001b[0m\u001b[1;33m.\u001b[0m\u001b[0mceil_mode\u001b[0m\u001b[1;33m,\u001b[0m\u001b[1;33m\u001b[0m\u001b[1;33m\u001b[0m\u001b[0m\n\u001b[1;32m--> 141\u001b[1;33m                             self.return_indices)\n\u001b[0m\u001b[0;32m    142\u001b[0m \u001b[1;33m\u001b[0m\u001b[0m\n\u001b[0;32m    143\u001b[0m \u001b[1;33m\u001b[0m\u001b[0m\n",
      "\u001b[1;32mD:\\Anaconda\\envs\\Pytorch\\lib\\site-packages\\torch\\_jit_internal.py\u001b[0m in \u001b[0;36mfn\u001b[1;34m(*args, **kwargs)\u001b[0m\n\u001b[0;32m    132\u001b[0m             \u001b[1;32mreturn\u001b[0m \u001b[0mif_true\u001b[0m\u001b[1;33m(\u001b[0m\u001b[1;33m*\u001b[0m\u001b[0margs\u001b[0m\u001b[1;33m,\u001b[0m \u001b[1;33m**\u001b[0m\u001b[0mkwargs\u001b[0m\u001b[1;33m)\u001b[0m\u001b[1;33m\u001b[0m\u001b[1;33m\u001b[0m\u001b[0m\n\u001b[0;32m    133\u001b[0m         \u001b[1;32melse\u001b[0m\u001b[1;33m:\u001b[0m\u001b[1;33m\u001b[0m\u001b[1;33m\u001b[0m\u001b[0m\n\u001b[1;32m--> 134\u001b[1;33m             \u001b[1;32mreturn\u001b[0m \u001b[0mif_false\u001b[0m\u001b[1;33m(\u001b[0m\u001b[1;33m*\u001b[0m\u001b[0margs\u001b[0m\u001b[1;33m,\u001b[0m \u001b[1;33m**\u001b[0m\u001b[0mkwargs\u001b[0m\u001b[1;33m)\u001b[0m\u001b[1;33m\u001b[0m\u001b[1;33m\u001b[0m\u001b[0m\n\u001b[0m\u001b[0;32m    135\u001b[0m \u001b[1;33m\u001b[0m\u001b[0m\n\u001b[0;32m    136\u001b[0m     \u001b[1;32mif\u001b[0m \u001b[0mif_true\u001b[0m\u001b[1;33m.\u001b[0m\u001b[0m__doc__\u001b[0m \u001b[1;32mis\u001b[0m \u001b[1;32mNone\u001b[0m \u001b[1;32mand\u001b[0m \u001b[0mif_false\u001b[0m\u001b[1;33m.\u001b[0m\u001b[0m__doc__\u001b[0m \u001b[1;32mis\u001b[0m \u001b[1;32mnot\u001b[0m \u001b[1;32mNone\u001b[0m\u001b[1;33m:\u001b[0m\u001b[1;33m\u001b[0m\u001b[1;33m\u001b[0m\u001b[0m\n",
      "\u001b[1;32mD:\\Anaconda\\envs\\Pytorch\\lib\\site-packages\\torch\\nn\\functional.py\u001b[0m in \u001b[0;36m_max_pool2d\u001b[1;34m(input, kernel_size, stride, padding, dilation, ceil_mode, return_indices)\u001b[0m\n\u001b[0;32m    485\u001b[0m         \u001b[0mstride\u001b[0m \u001b[1;33m=\u001b[0m \u001b[0mtorch\u001b[0m\u001b[1;33m.\u001b[0m\u001b[0mjit\u001b[0m\u001b[1;33m.\u001b[0m\u001b[0mannotate\u001b[0m\u001b[1;33m(\u001b[0m\u001b[0mList\u001b[0m\u001b[1;33m[\u001b[0m\u001b[0mint\u001b[0m\u001b[1;33m]\u001b[0m\u001b[1;33m,\u001b[0m \u001b[1;33m[\u001b[0m\u001b[1;33m]\u001b[0m\u001b[1;33m)\u001b[0m\u001b[1;33m\u001b[0m\u001b[1;33m\u001b[0m\u001b[0m\n\u001b[0;32m    486\u001b[0m     return torch.max_pool2d(\n\u001b[1;32m--> 487\u001b[1;33m         input, kernel_size, stride, padding, dilation, ceil_mode)\n\u001b[0m\u001b[0;32m    488\u001b[0m \u001b[1;33m\u001b[0m\u001b[0m\n\u001b[0;32m    489\u001b[0m max_pool2d = boolean_dispatch(\n",
      "\u001b[1;31mRuntimeError\u001b[0m: [enforce fail at ..\\c10\\core\\CPUAllocator.cpp:72] data. DefaultCPUAllocator: not enough memory: you tried to allocate 51380224 bytes. Buy new RAM!\n"
     ]
    }
   ],
   "source": [
    "if torch.cuda.is_available():\n",
    "    net = net.cuda()\n",
    "    \n",
    "train(model, train_loader, valid_loader)"
   ]
  }
 ],
 "metadata": {
  "kernelspec": {
   "display_name": "Pytorch",
   "language": "python",
   "name": "pytorch"
  },
  "language_info": {
   "codemirror_mode": {
    "name": "ipython",
    "version": 3
   },
   "file_extension": ".py",
   "mimetype": "text/x-python",
   "name": "python",
   "nbconvert_exporter": "python",
   "pygments_lexer": "ipython3",
   "version": "3.7.4"
  }
 },
 "nbformat": 4,
 "nbformat_minor": 2
}
